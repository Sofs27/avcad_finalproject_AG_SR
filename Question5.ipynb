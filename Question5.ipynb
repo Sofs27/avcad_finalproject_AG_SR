{
 "cells": [
  {
   "cell_type": "code",
   "execution_count": null,
   "id": "c5c8a959-e5c5-4021-8eb1-657fd950bac4",
   "metadata": {},
   "outputs": [],
   "source": [
    "import pandas as pd\n",
    "\n",
    "# Load the dataset\n",
    "file_path = 'Registos_Incendios_SGIF_2011_2020.xlsx'\n",
    "df = pd.read_excel(file_path)\n",
    "\n",
    "# Display the first few rows to understand the structure of the dataset\n",
    "print(df.head())\n"
   ]
  },
  {
   "cell_type": "code",
   "execution_count": null,
   "id": "beedaf3d-f544-47f2-9c08-5018ef7b239f",
   "metadata": {},
   "outputs": [],
   "source": [
    "# Convert relevant columns to datetime\n",
    "df['DataHoraAlerta'] = pd.to_datetime(df['DataHoraAlerta'])\n",
    "df['DataHoraIntervencao'] = pd.to_datetime(df['DataHoraIntervencao'])\n",
    "\n",
    "# Convert 'Duracao_Horas' to numeric if it contains commas\n",
    "df['Duracao_Horas'] = df['Duracao_Horas'].str.replace(',', '.').astype(float)\n",
    "\n",
    "# Calculate response time in minutes\n",
    "df['ResponseTime_Minutes'] = (df['DataHoraIntervencao'] - df['DataHoraAlerta']).dt.total_seconds() / 60\n",
    "\n",
    "# Display the first few rows to verify the changes\n",
    "print(df[['DataHoraAlerta', 'DataHoraIntervencao', 'Duracao_Horas', 'ResponseTime_Minutes']].head())\n"
   ]
  },
  {
   "cell_type": "code",
   "execution_count": null,
   "id": "bf5b4d9e-d1c2-4c84-93ac-f65d97b22e77",
   "metadata": {},
   "outputs": [],
   "source": [
    "import matplotlib.pyplot as plt\n",
    "import seaborn as sns\n",
    "from scipy.stats import pearsonr\n",
    "\n",
    "# Scatter plot to visualize the relationship\n",
    "plt.figure(figsize=(10, 6))\n",
    "sns.scatterplot(x='ResponseTime_Minutes', y='Duracao_Horas', data=df, alpha=0.6)\n",
    "plt.xlabel('Response Time (Minutes)')\n",
    "plt.ylabel('Duration of Fires (Hours)')\n",
    "plt.title('Response Time vs Duration of Fires')\n",
    "plt.show()\n",
    "\n",
    "# Calculate the Pearson correlation coefficient\n",
    "correlation, p_value = pearsonr(df['ResponseTime_Minutes'].dropna(), df['Duracao_Horas'].dropna())\n",
    "print(f'Pearson Correlation: {correlation:.2f}, P-value: {p_value:.2e}')\n"
   ]
  },
  {
   "cell_type": "code",
   "execution_count": null,
   "id": "c301e9d0-80a8-4e8f-82be-b17b5936f008",
   "metadata": {},
   "outputs": [],
   "source": [
    "# Extract year from the alert time\n",
    "df['Year'] = df['DataHoraAlerta'].dt.year\n",
    "\n",
    "# Average duration of fires and response times per year\n",
    "yearly_stats = df.groupby('Year').agg({'Duracao_Horas': 'mean', 'ResponseTime_Minutes': 'mean'}).reset_index()\n",
    "\n",
    "# Plot the trends over time\n",
    "plt.figure(figsize=(14, 6))\n",
    "sns.lineplot(x='Year', y='Duracao_Horas', data=yearly_stats, marker='o', label='Average Duration of Fires (Hours)')\n",
    "sns.lineplot(x='Year', y='ResponseTime_Minutes', data=yearly_stats, marker='o', label='Average Response Time (Minutes)')\n",
    "plt.xlabel('Year')\n",
    "plt.ylabel('Average Value')\n",
    "plt.title('Trends in Fire Duration and Response Times Over the Years')\n",
    "plt.legend()\n",
    "plt.show()\n"
   ]
  },
  {
   "cell_type": "code",
   "execution_count": null,
   "id": "4e80c09a-7250-4279-8882-84731239c9d5",
   "metadata": {},
   "outputs": [],
   "source": []
  },
  {
   "cell_type": "code",
   "execution_count": null,
   "id": "05000751-03c7-4b61-8859-b27a11fdee18",
   "metadata": {},
   "outputs": [],
   "source": []
  },
  {
   "cell_type": "code",
   "execution_count": null,
   "id": "c224ca34-dc1a-47e9-b605-39c314212561",
   "metadata": {},
   "outputs": [],
   "source": []
  }
 ],
 "metadata": {
  "kernelspec": {
   "display_name": "Python 3 (ipykernel)",
   "language": "python",
   "name": "python3"
  },
  "language_info": {
   "codemirror_mode": {
    "name": "ipython",
    "version": 3
   },
   "file_extension": ".py",
   "mimetype": "text/x-python",
   "name": "python",
   "nbconvert_exporter": "python",
   "pygments_lexer": "ipython3",
   "version": "3.12.4"
  }
 },
 "nbformat": 4,
 "nbformat_minor": 5
}
