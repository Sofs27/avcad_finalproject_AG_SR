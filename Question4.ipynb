{
 "cells": [
  {
   "cell_type": "markdown",
   "id": "f56657e7",
   "metadata": {},
   "source": [
    "4-\tCan we identify clusters of fire events based on their characteristics (e.g. cause, location, duration)? Are there distinct patterns in fire occurrences that can be grouped together?"
   ]
  },
  {
   "cell_type": "code",
   "execution_count": null,
   "id": "0acd979d-e37a-4e1d-8f6e-a623495928b6",
   "metadata": {},
   "outputs": [],
   "source": [
    "import pandas as pd\n",
    "\n",
    "# Load the data\n",
    "file_path = 'Registos_Incendios_SGIF_2011_2020.xlsx'\n",
    "df = pd.read_excel(file_path)\n",
    "\n",
    "# Display the first few rows to understand the structure of the dataset\n",
    "print(df.head())\n"
   ]
  }
 ],
 "metadata": {
  "kernelspec": {
   "display_name": "Python 3 (ipykernel)",
   "language": "python",
   "name": "python3"
  },
  "language_info": {
   "codemirror_mode": {
    "name": "ipython",
    "version": 3
   },
   "file_extension": ".py",
   "mimetype": "text/x-python",
   "name": "python",
   "nbconvert_exporter": "python",
   "pygments_lexer": "ipython3",
   "version": "3.12.4"
  }
 },
 "nbformat": 4,
 "nbformat_minor": 5
}
