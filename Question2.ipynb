{
 "cells": [
  {
   "cell_type": "markdown",
   "id": "07b73ee7",
   "metadata": {},
   "source": [
    "2-\tHow long do fires typically last from start to extinction? Is there a correlation between the time of first intervention and the duration of the fire?"
   ]
  },
  {
   "cell_type": "code",
   "execution_count": null,
   "id": "0acd979d-e37a-4e1d-8f6e-a623495928b6",
   "metadata": {},
   "outputs": [],
   "source": [
    "import pandas as pd\n",
    "\n",
    "# Load the data\n",
    "file_path = 'Registos_Incendios_SGIF_2011_2020.xlsx'\n",
    "df = pd.read_excel(file_path)\n",
    "\n",
    "# Display the first few rows to understand the structure of the dataset\n",
    "print(df.head())\n"
   ]
  },
  {
   "cell_type": "code",
   "execution_count": null,
   "id": "95e0259b-1b75-4351-8424-7de45827977b",
   "metadata": {},
   "outputs": [],
   "source": [
    "import pandas as pd\n",
    "import matplotlib.pyplot as plt\n",
    "\n",
    "# Summary statistics\n",
    "duration_stats = df['Duracao_Horas'].describe()\n",
    "print(duration_stats)"
   ]
  },
  {
   "cell_type": "code",
   "execution_count": null,
   "id": "fd50fc22",
   "metadata": {},
   "outputs": [],
   "source": [
    "# Convert to datetime\n",
    "df['DataHora_PrimeiraIntervencao'] = pd.to_datetime(df['DataHora_PrimeiraIntervencao'])\n",
    "\n",
    "# Calculate time to first intervention in hours\n",
    "df['Time_To_First_Intervention_Hours'] = (df['DataHora_PrimeiraIntervencao'] - df['DataHoraAlerta']).dt.total_seconds() / 3600\n",
    "\n",
    "# Summary statistics for time to first intervention\n",
    "intervention_stats = df['Time_To_First_Intervention_Hours'].describe()\n",
    "print(intervention_stats)\n",
    "\n",
    "# Correlation analysis\n",
    "correlation = df[['Time_To_First_Intervention_Hours', 'Duracao_Horas']].corr()\n",
    "print(correlation)\n",
    "\n",
    "# Scatter plot\n",
    "plt.figure(figsize=(12, 6))\n",
    "plt.scatter(df['Time_To_First_Intervention_Hours'], df['Duracao_Horas'], alpha=0.5)\n",
    "plt.xlabel('Time to First Intervention (hours)')\n",
    "plt.ylabel('Fire Duration (hours)')\n",
    "plt.title('Correlation between Time to First Intervention and Fire Duration')\n",
    "plt.show()\n",
    "\n",
    "# Add regression line\n",
    "import seaborn as sns\n",
    "plt.figure(figsize=(12, 6))\n",
    "sns.regplot(x='Time_To_First_Intervention_Hours', y='Duracao_Horas', data=df, scatter_kws={'alpha':0.5})\n",
    "plt.xlabel('Time to First Intervention (hours)')\n",
    "plt.ylabel('Fire Duration (hours)')\n",
    "plt.title('Correlation between Time to First Intervention and Fire Duration')\n",
    "plt.show()\n"
   ]
  }
 ],
 "metadata": {
  "kernelspec": {
   "display_name": "Python 3 (ipykernel)",
   "language": "python",
   "name": "python3"
  },
  "language_info": {
   "codemirror_mode": {
    "name": "ipython",
    "version": 3
   },
   "file_extension": ".py",
   "mimetype": "text/x-python",
   "name": "python",
   "nbconvert_exporter": "python",
   "pygments_lexer": "ipython3",
   "version": "3.12.4"
  }
 },
 "nbformat": 4,
 "nbformat_minor": 5
}
